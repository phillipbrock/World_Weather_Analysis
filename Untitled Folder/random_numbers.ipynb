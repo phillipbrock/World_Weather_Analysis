{
 "cells": [
  {
   "cell_type": "code",
   "execution_count": 11,
   "id": "d1fe456d",
   "metadata": {},
   "outputs": [],
   "source": [
    "# Import the numPy module\n",
    "import numpy as np"
   ]
  },
  {
   "cell_type": "code",
   "execution_count": 14,
   "id": "398d4aa1",
   "metadata": {},
   "outputs": [
    {
     "data": {
      "text/plain": [
       "array([-61.14160343, -86.64307344,  86.99370518, ...,  43.31210657,\n",
       "        54.35137374, -74.18088574])"
      ]
     },
     "execution_count": 14,
     "metadata": {},
     "output_type": "execute_result"
    }
   ],
   "source": [
    "np.random.uniform(-90, 90, size=1500)"
   ]
  },
  {
   "cell_type": "code",
   "execution_count": null,
   "id": "8e042bf6",
   "metadata": {},
   "outputs": [],
   "source": []
  }
 ],
 "metadata": {
  "kernelspec": {
   "display_name": "PythonData",
   "language": "python",
   "name": "pythondata"
  },
  "language_info": {
   "codemirror_mode": {
    "name": "ipython",
    "version": 3
   },
   "file_extension": ".py",
   "mimetype": "text/x-python",
   "name": "python",
   "nbconvert_exporter": "python",
   "pygments_lexer": "ipython3",
   "version": "3.7.10"
  }
 },
 "nbformat": 4,
 "nbformat_minor": 5
}
